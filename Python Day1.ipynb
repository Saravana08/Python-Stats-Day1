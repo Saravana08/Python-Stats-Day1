{
 "cells": [
  {
   "cell_type": "markdown",
   "metadata": {},
   "source": [
    "# Python basics"
   ]
  },
  {
   "cell_type": "code",
   "execution_count": null,
   "metadata": {},
   "outputs": [],
   "source": [
    "# Introduction to Python Programming\n",
    "# Getting Started\n",
    "# Python - python.org - Python is a langugage which can be written in various tools like anaconda, pycharm\n",
    "# But we can install anaconda which comes with python inbuilt"
   ]
  },
  {
   "cell_type": "code",
   "execution_count": null,
   "metadata": {},
   "outputs": [],
   "source": [
    "import sys\n",
    "\n",
    "print(sys.version_info)\n",
    "\n",
    "print(sys.api_version)\n",
    "\n",
    "print(sys.path)\n"
   ]
  },
  {
   "cell_type": "code",
   "execution_count": null,
   "metadata": {},
   "outputs": [],
   "source": [
    "import os\n",
    "\n",
    "print(os.getcwd())\n",
    "print(os.chdir('C://Users//kingm//Desktop//Courses'))\n",
    "print(os.getcwd())"
   ]
  },
  {
   "cell_type": "code",
   "execution_count": null,
   "metadata": {},
   "outputs": [],
   "source": [
    "print('hello world')"
   ]
  },
  {
   "cell_type": "code",
   "execution_count": null,
   "metadata": {},
   "outputs": [],
   "source": [
    "import os"
   ]
  },
  {
   "cell_type": "code",
   "execution_count": null,
   "metadata": {},
   "outputs": [],
   "source": [
    "# Data Structures\n",
    "\n",
    "# Integers -  1,2,3\n",
    "# String   -'ram', 'john'\n",
    "# Floats   - 1.0,3.5\n"
   ]
  },
  {
   "cell_type": "code",
   "execution_count": null,
   "metadata": {},
   "outputs": [],
   "source": [
    "a = 12\n",
    "print('this is the value of a',a)"
   ]
  },
  {
   "cell_type": "code",
   "execution_count": null,
   "metadata": {},
   "outputs": [],
   "source": [
    "# Arithmatic operations\n",
    "\n",
    "a = 12\n",
    "b = 3\n",
    "addition = a + b\n",
    "subtraction = a - b\n",
    "multiplication = a * b\n",
    "division = a / b\n",
    "modulus = a % b\n",
    "exponent = a ** b\n",
    "Floor_Division = a // b\n",
    "print(addition)\n",
    "print(\"Subtracting Number 3 from 12 is : \", subtraction)\n",
    "print(\"Multiplication of two numbers 12 and 3 is : \", multiplication)\n",
    "print(\"Division of two numbers 12 and 3 is : \", division)\n",
    "print(\"Modulus of two numbers 12 and 3 is : \", modulus)\n",
    "print(\"Exponent of two numbers 12 and 3 is : \", exponent)\n",
    "print(\"Floor Division of two numbers 12 and 3 is : \", Floor_Division)"
   ]
  },
  {
   "cell_type": "code",
   "execution_count": null,
   "metadata": {},
   "outputs": [],
   "source": [
    "# Operations\n",
    "age = 12\n",
    "age2= 14\n",
    "print(age-age2)\n",
    "print(age+age2)\n",
    "print(age*age2)\n",
    "print(age/age2)\n",
    "print(age2%age)\n",
    "firstname = 'Rony'\n",
    "lastname = 'Wilson'\n",
    "print(firstname+' '+lastname)"
   ]
  },
  {
   "cell_type": "code",
   "execution_count": null,
   "metadata": {},
   "outputs": [],
   "source": [
    "sentence= 'hey'\n",
    "sentence[1]\n",
    "name= 'jeff'\n",
    "name + 'is 15 years old'\n",
    "sent ='%s is 15 years old'\n",
    "print(sent%name)"
   ]
  },
  {
   "cell_type": "code",
   "execution_count": null,
   "metadata": {},
   "outputs": [],
   "source": [
    "num = 30\n",
    "print(num)\n",
    "num2 = 6\n",
    "print(num2)"
   ]
  },
  {
   "cell_type": "code",
   "execution_count": null,
   "metadata": {},
   "outputs": [],
   "source": [
    "# Common builtin functions\n",
    "# len\n",
    "# max\n",
    "# sort and sorted"
   ]
  },
  {
   "cell_type": "code",
   "execution_count": null,
   "metadata": {},
   "outputs": [],
   "source": [
    "lists = [1,2,3,4]\n",
    "print(len(lists))\n",
    "print(min(lists))\n",
    "print(max(lists))"
   ]
  },
  {
   "cell_type": "code",
   "execution_count": null,
   "metadata": {},
   "outputs": [],
   "source": [
    "min.__doc__"
   ]
  },
  {
   "cell_type": "code",
   "execution_count": null,
   "metadata": {},
   "outputs": [],
   "source": [
    "# Lists\n",
    "\n",
    "a = [1,2,3,4,5]\n",
    "print(a) # Prints the lists\n",
    "\n",
    "a.append(6) # Add a certain value to a list\n",
    "print(a)   \n",
    "\n",
    "print(type(a)) # Prints the type of a\n",
    "\n",
    "print(a.count(1)) # Count a specific occurene of a value\n",
    "\n",
    "a.pop(4) # Remove a value with Index\n",
    "\n",
    "print(max(a))\n",
    "print(min(a))\n",
    "print(a)\n",
    "del a\n",
    "print(a)"
   ]
  },
  {
   "cell_type": "code",
   "execution_count": null,
   "metadata": {},
   "outputs": [],
   "source": [
    "#lists\n",
    "lists=['apple',2,'hey']\n",
    "print(lists)\n",
    "print(type(lists))\n",
    "print(lists[0])\n",
    "del lists[1]\n",
    "print(lists)\n",
    "print(len(lists))\n",
    "lists2 = ['mango']\n",
    "print(lists+lists2)\n",
    "lis = [1,2,3,4,5,6]\n",
    "print(lis)\n",
    "print(max(lis))\n",
    "print(min(lis))\n",
    "print(lis*2)"
   ]
  },
  {
   "cell_type": "code",
   "execution_count": null,
   "metadata": {},
   "outputs": [],
   "source": [
    "a = [1,2,3,4,5]\n",
    "a.pop(4) # Remove a value with Index\n",
    "del a\n",
    "print(a)"
   ]
  },
  {
   "cell_type": "code",
   "execution_count": null,
   "metadata": {},
   "outputs": [],
   "source": [
    "# Tuples\n",
    "b = (1,2,3,4,5) # Creating a tuple\n",
    "\n",
    "print(b) # prints the results\n",
    "\n",
    "print(type(b)) # prints the type of a variable\n",
    "\n",
    "print(b.count(1)) # prints the occurence of a specific item in tuple\n",
    "\n",
    "print(b.index(1)) # prints the index of a specific value\n"
   ]
  },
  {
   "cell_type": "code",
   "execution_count": null,
   "metadata": {},
   "outputs": [],
   "source": [
    "# Tuples\n",
    "tuples=('orange','red','black')\n",
    "print(tuples)\n",
    "print(tuples[1])\n",
    "print(tuples[0:2])\n",
    "tupl2 = (12,13,14)\n",
    "print(tuples+tupl2)\n",
    "print(len(tuples))\n",
    "tuples2 = 'h'\n",
    "print(tuples2*4)"
   ]
  },
  {
   "cell_type": "code",
   "execution_count": null,
   "metadata": {},
   "outputs": [],
   "source": [
    "# Dictonary\n",
    "\n",
    "c = {'name':'John','Age':20,'Education':'BSC','marks':4.5} # creating a dictonary\n",
    "\n",
    "print('dictonary items',c)\n",
    "\n",
    "print(c['name']) # prints the value of a specific dict\n",
    "\n",
    "c['name'] = 'Rony' # updating the value of a key\n",
    "\n",
    "print(c)"
   ]
  },
  {
   "cell_type": "code",
   "execution_count": null,
   "metadata": {},
   "outputs": [],
   "source": [
    "# dictonary\n",
    "students ={'bob':20,'mark':35,'sam':45}\n",
    "print(students)\n",
    "print(students['bob'])\n",
    "del students['mark']\n",
    "print(students)\n",
    "print('lenth is ',len(students))"
   ]
  },
  {
   "cell_type": "code",
   "execution_count": null,
   "metadata": {},
   "outputs": [],
   "source": [
    "# Taking input from user\n",
    "\n",
    "age = int(input('Enter your age'))\n",
    "\n",
    "futureage = age+5\n",
    "\n",
    "print('you will be',futureage,'in five years')"
   ]
  },
  {
   "cell_type": "code",
   "execution_count": null,
   "metadata": {},
   "outputs": [],
   "source": [
    "# For loops\n",
    "\n",
    "for i in range(10):\n",
    "    print(i)"
   ]
  },
  {
   "cell_type": "code",
   "execution_count": null,
   "metadata": {},
   "outputs": [],
   "source": [
    "# for loops\n",
    "for i in range(10):\n",
    "    print(i)\n",
    "tuples = ('ram','sham','rony','jack')\n",
    "for item in tuples:\n",
    "    print(item)\n"
   ]
  },
  {
   "cell_type": "code",
   "execution_count": null,
   "metadata": {},
   "outputs": [],
   "source": [
    "lis = [1,2,3,4]\n",
    "for i in lis:\n",
    "    print(i*2)"
   ]
  },
  {
   "cell_type": "code",
   "execution_count": null,
   "metadata": {},
   "outputs": [],
   "source": [
    "# Python Program to Print Odd Numbers from 1 to N\n",
    "\n",
    "maximum = int(input(\" Please Enter any Maximum Value : \"))\n",
    "\n",
    "for number in range(1, maximum + 1):\n",
    "    if(number % 2 != 0):\n",
    "        print(\"{0}\".format(number))"
   ]
  },
  {
   "cell_type": "code",
   "execution_count": null,
   "metadata": {},
   "outputs": [],
   "source": [
    "# while loop\n",
    "i = 1\n",
    "while i < 6:\n",
    "    print(i)\n",
    "    i += 1"
   ]
  },
  {
   "cell_type": "code",
   "execution_count": null,
   "metadata": {},
   "outputs": [],
   "source": [
    "total = 0\n",
    "\n",
    "number = int(input(\" Please Enter any integer below 10:  \"))\n",
    "\n",
    "while (number <= 10):\n",
    "    total = total + number\n",
    "    number = number + 1\n",
    "print(\" Value of Total From the While Loop is: \", total)"
   ]
  },
  {
   "cell_type": "code",
   "execution_count": null,
   "metadata": {},
   "outputs": [],
   "source": [
    "if 5<0:\n",
    "    print('yes')\n",
    "else:\n",
    "    print('no')"
   ]
  },
  {
   "cell_type": "code",
   "execution_count": null,
   "metadata": {},
   "outputs": [],
   "source": [
    "# Taking input\n",
    "age = int(input('Enter your age'))\n",
    "if age>=18:\n",
    "    print('You are an Adult')\n",
    "elif age>=13 and age<18:\n",
    "    print('you are a teenager')\n",
    "else:\n",
    "    print('you are young')\n"
   ]
  },
  {
   "cell_type": "code",
   "execution_count": null,
   "metadata": {},
   "outputs": [],
   "source": [
    "# conditional statements\n",
    "ram =50\n",
    "sham = 100\n",
    "if ram>sham:\n",
    "    print('ram is higher')\n",
    "elif ram==sham:\n",
    "    print('ram is equal to sham')\n",
    "else:\n",
    "    print('sham is high')"
   ]
  },
  {
   "cell_type": "code",
   "execution_count": null,
   "metadata": {},
   "outputs": [],
   "source": [
    "print(3>=2)\n",
    "print(3==2)\n",
    "print(3!=2)"
   ]
  },
  {
   "cell_type": "code",
   "execution_count": null,
   "metadata": {},
   "outputs": [],
   "source": [
    "def helloword():\n",
    "    print('basic functions')"
   ]
  },
  {
   "cell_type": "code",
   "execution_count": null,
   "metadata": {},
   "outputs": [],
   "source": [
    "def add(num,num2):\n",
    "    result = num+num2\n",
    "    print(result)\n",
    "    \n",
    "add(10,14)"
   ]
  },
  {
   "cell_type": "code",
   "execution_count": null,
   "metadata": {},
   "outputs": [],
   "source": [
    "def greetings(name):\n",
    "    print(name,'welcome')"
   ]
  },
  {
   "cell_type": "code",
   "execution_count": null,
   "metadata": {},
   "outputs": [],
   "source": [
    "greetings('saravana')"
   ]
  },
  {
   "cell_type": "code",
   "execution_count": null,
   "metadata": {},
   "outputs": [],
   "source": [
    "sent = 'hey'\n",
    "print(sent.upper())\n",
    "print(sent.lower())\n",
    "print(sent.capitalize())\n",
    "print(sent.count('h'))\n",
    "help(sent.count)"
   ]
  },
  {
   "cell_type": "code",
   "execution_count": null,
   "metadata": {},
   "outputs": [],
   "source": [
    "# built in functions\n",
    "print(sent.endswith('e'))\n",
    "print(sent.find('e')) # finds returns lowest index of a substring\n",
    "print(sent.index('y')) # finds the index of the substring\n",
    "eval('5*3')\n",
    "a=1\n",
    "print(type(a))\n",
    "b = str(a)\n",
    "print(type(b))"
   ]
  },
  {
   "cell_type": "code",
   "execution_count": null,
   "metadata": {},
   "outputs": [],
   "source": [
    "# in built functions\n",
    "\n",
    "print(abs(-30))\n",
    "print(bool(0))\n",
    "print(5<0)"
   ]
  },
  {
   "cell_type": "code",
   "execution_count": null,
   "metadata": {},
   "outputs": [],
   "source": [
    "import pandas as pd\n",
    "\n",
    "# Program to Create series with scalar values  \n",
    "Data =[1, 3, 4, 5, 6, 2, 9]  # Numeric data \n",
    "  \n",
    "# Creating series with default index values \n",
    "s = pd.Series(Data)     \n",
    "  \n",
    "# predefined index values \n",
    "Index =['a', 'b', 'c', 'd', 'e', 'f', 'g']  \n",
    "  \n",
    "# Creating series with predefined index values \n",
    "si = pd.Series(Data, Index) \n",
    "print(si)\n",
    "\n",
    "a = pd.DataFrame(si)\n",
    "print(a)"
   ]
  },
  {
   "cell_type": "code",
   "execution_count": null,
   "metadata": {},
   "outputs": [],
   "source": [
    "# Python Program to find Area Of Circle using Radius\n",
    "\n",
    "PI = 3.14\n",
    "radius = float(input(' Please Enter the radius of a circle: '))\n",
    "area = PI * radius * radius\n",
    "circumference = 2 * PI * radius\n",
    "\n",
    "print(\" Area Of a Circle = %.2f\" %area)\n",
    "print(\" Circumference Of a Circle = %.2f\" %circumference)"
   ]
  },
  {
   "cell_type": "code",
   "execution_count": null,
   "metadata": {},
   "outputs": [],
   "source": [
    "# Python Program to find Total, Average, and Percentage of Five Subjects\n",
    " \n",
    "english = float(input(\"Please enter English Marks: \"))\n",
    "math = float(input(\"Please enter Math score: \"))\n",
    "computers = float(input(\"Please enter Computer Marks: \"))\n",
    "physics = float(input(\"Please enter Physics Marks: \"))\n",
    "chemistry = float(input(\"Please enter Chemistry Marks: \"))\n",
    "\n",
    "total = english + math + computers + physics + chemistry\n",
    "average = total / 5\n",
    "percentage = (total / 500) * 100\n",
    "\n",
    "print(\"\\nTotal Marks = %.2f\"  %total)\n",
    "print(\"Average Marks = %.2f\"  %average)\n",
    "print(\"Marks Percentage = %.2f\"  %percentage)"
   ]
  },
  {
   "cell_type": "code",
   "execution_count": null,
   "metadata": {},
   "outputs": [],
   "source": [
    "# Python Program to Remove First Occurrence of a Character in a String\n",
    " \n",
    "string = input(\"Please enter your own String : \")\n",
    "char = input(\"Please enter your own Character : \")\n",
    "string2 = ''\n",
    "length = len(string)\n",
    "for i in range(length):\n",
    "    if(string[i] == char):\n",
    "        string2 = string[0:i] + string[i + 1:length]\n",
    "        break\n",
    " \n",
    " \n",
    "print(\"Original String :  \", string)\n",
    "print(\"Final String :     \", string2)"
   ]
  },
  {
   "cell_type": "markdown",
   "metadata": {},
   "source": [
    "# Errors"
   ]
  },
  {
   "cell_type": "code",
   "execution_count": 2,
   "metadata": {},
   "outputs": [
    {
     "name": "stdout",
     "output_type": "stream",
     "text": [
      "file not found\n"
     ]
    }
   ],
   "source": [
    "# Exception handlig\n",
    "\n",
    "try:\n",
    "    data = read_csv('data.csv')\n",
    "except:\n",
    "    print('file not found')\n",
    "    "
   ]
  },
  {
   "cell_type": "code",
   "execution_count": null,
   "metadata": {},
   "outputs": [],
   "source": [
    "def this_fails():\n",
    "    x = 1/0\n",
    "try:\n",
    "    this_fails()\n",
    "except ZeroDivisionError as err:\n",
    "    print('Handling run-time error:', err)"
   ]
  },
  {
   "cell_type": "code",
   "execution_count": null,
   "metadata": {},
   "outputs": [],
   "source": [
    "try:\n",
    "    x = int(input(\"Please enter a number: \"))\n",
    "except ValueError:\n",
    "    print(\"Oops!  That was no valid number.  Try again...\")"
   ]
  },
  {
   "cell_type": "code",
   "execution_count": null,
   "metadata": {},
   "outputs": [],
   "source": [
    "A = 1\n",
    "B = 'SA'\n",
    "try:\n",
    "    A+B\n",
    "except TypeError:\n",
    "    print('Please input the correct type')"
   ]
  },
  {
   "cell_type": "code",
   "execution_count": null,
   "metadata": {},
   "outputs": [],
   "source": [
    "user_input = input('Enter your Age')\n",
    "try:\n",
    "    val = int(user_input)\n",
    "    print('Yes input string is an Integer.')\n",
    "    print('Input number value is: ', val)\n",
    "except ValueError:\n",
    "    print('That\\'s not an int!')\n",
    "except:\n",
    "    print('Somethings wrong')"
   ]
  },
  {
   "cell_type": "code",
   "execution_count": 4,
   "metadata": {},
   "outputs": [
    {
     "name": "stdout",
     "output_type": "stream",
     "text": [
      "Variable x is not defined\n"
     ]
    }
   ],
   "source": [
    "try:\n",
    "    print(x)\n",
    "except NameError:\n",
    "    print(\"Variable x is not defined\")\n",
    "except:\n",
    "    print(\"Something else went wrong\")"
   ]
  },
  {
   "cell_type": "code",
   "execution_count": 6,
   "metadata": {},
   "outputs": [
    {
     "name": "stdout",
     "output_type": "stream",
     "text": [
      "Hello\n"
     ]
    }
   ],
   "source": [
    "try:\n",
    "    print(\"Hello\")\n",
    "except:\n",
    "    print(\"Something went wrong\")"
   ]
  },
  {
   "cell_type": "code",
   "execution_count": null,
   "metadata": {},
   "outputs": [],
   "source": [
    "try:\n",
    "    f = open('myfile.txt')\n",
    "    s = f.readline()\n",
    "    i = int(s.strip())\n",
    "except OSError as err:\n",
    "    print(\"OS error: {0}\".format(err))\n",
    "except ValueError:\n",
    "    print(\"Could not convert data to an integer.\")\n",
    "except:\n",
    "    print(\"Unexpected error:\", sys.exc_info()[0])\n",
    "    raise"
   ]
  }
 ],
 "metadata": {
  "kernelspec": {
   "display_name": "Python 3",
   "language": "python",
   "name": "python3"
  },
  "language_info": {
   "codemirror_mode": {
    "name": "ipython",
    "version": 3
   },
   "file_extension": ".py",
   "mimetype": "text/x-python",
   "name": "python",
   "nbconvert_exporter": "python",
   "pygments_lexer": "ipython3",
   "version": "3.6.4"
  }
 },
 "nbformat": 4,
 "nbformat_minor": 2
}
